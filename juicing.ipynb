{
 "cells": [
  {
   "cell_type": "code",
   "execution_count": null,
   "metadata": {},
   "outputs": [],
   "source": [
    "!pip install ipywidgets"
   ]
  },
  {
   "cell_type": "code",
   "execution_count": 4,
   "metadata": {},
   "outputs": [
    {
     "data": {
      "application/vnd.jupyter.widget-view+json": {
       "model_id": "e5dc3ba91baa43769cdefd12ff02179f",
       "version_major": 2,
       "version_minor": 0
      },
      "text/plain": [
       "FloatSlider(value=2.5, description='X:', max=5.0, min=0.1, step=0.05)"
      ]
     },
     "metadata": {},
     "output_type": "display_data"
    },
    {
     "data": {
      "application/vnd.jupyter.widget-view+json": {
       "model_id": "423f81b285b34fe584de51b76dc7e2dd",
       "version_major": 2,
       "version_minor": 0
      },
      "text/plain": [
       "Label(value='Output: None.')"
      ]
     },
     "metadata": {},
     "output_type": "display_data"
    }
   ],
   "source": [
    "import ipywidgets as widgets\n",
    "from IPython.display import display\n",
    "import math\n",
    "\n",
    "def update_output(change):\n",
    "    x = slider.value\n",
    "   \n",
    "    def hex_prism_vol(x):\n",
    "        #V=3ash\n",
    "        hexagon_area = 12*((((1.5*x) * math.tan(math.pi/3)) * (1.5*x))/2)\n",
    "        prism_volume = hexagon_area * (3*x)\n",
    "        return prism_volume\n",
    "\n",
    "    def trunc_pyr_vol(x):\n",
    "        def twisted_pyr(x):\n",
    "            r = math.sqrt(((0.5*x)**2) + ((2.5*x)**2))\n",
    "            tet1 = ((r*(3*x)/2)*(6*x))/3\n",
    "            tet2 = ((((2.5*x)*(0.5*x))/2)*(6*x))/3\n",
    "            return tet1 + tet2\n",
    "        def trapezoidal_solid(x):\n",
    "            q = ((3*x)*math.sin((math.pi/3)/2))-0.5\n",
    "            prism  = ((q*(6*x))/2)*x\n",
    "            sides = (((q*x)/2)*(6*x))/3\n",
    "            return prism + sides + sides\n",
    "        pyr_core = (x**2)*(6*x)\n",
    "        return pyr_core + (4 * twisted_pyr(x)) + (2 * trapezoidal_solid(x))\n",
    "\n",
    "    total_volume = trunc_pyr_vol(x) + hex_prism_vol(x) + (x**3)\n",
    "    output.value = f\"Output: {total_volume:.1f}\"\n",
    "\n",
    "# Create slider widget\n",
    "slider = widgets.FloatSlider(\n",
    "    value=2.5,\n",
    "    min=0.1,\n",
    "    max=5,\n",
    "    step=0.05,\n",
    "    description='X:',\n",
    "    continuous_update=True\n",
    ")\n",
    "\n",
    "# Create output widget\n",
    "output = widgets.Label(value=\"Output: None.\")\n",
    "\n",
    "# Attach the event listener\n",
    "slider.observe(update_output, 'value')\n",
    "\n",
    "# Display widgets\n",
    "display(slider)\n",
    "display(output)"
   ]
  }
 ],
 "metadata": {
  "kernelspec": {
   "display_name": "Python 3",
   "language": "python",
   "name": "python3"
  },
  "language_info": {
   "codemirror_mode": {
    "name": "ipython",
    "version": 3
   },
   "file_extension": ".py",
   "mimetype": "text/x-python",
   "name": "python",
   "nbconvert_exporter": "python",
   "pygments_lexer": "ipython3",
   "version": "3.10.13"
  }
 },
 "nbformat": 4,
 "nbformat_minor": 2
}
