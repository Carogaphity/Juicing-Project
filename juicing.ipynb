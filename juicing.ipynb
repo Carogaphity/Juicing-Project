{
 "cells": [
  {
   "cell_type": "code",
   "execution_count": 3,
   "metadata": {},
   "outputs": [
    {
     "name": "stdout",
     "output_type": "stream",
     "text": [
      "Requirement already satisfied: ipywidgets in /usr/local/python/3.10.13/lib/python3.10/site-packages (8.1.2)\n",
      "Requirement already satisfied: comm>=0.1.3 in /home/codespace/.local/lib/python3.10/site-packages (from ipywidgets) (0.2.1)\n",
      "Requirement already satisfied: ipython>=6.1.0 in /home/codespace/.local/lib/python3.10/site-packages (from ipywidgets) (8.22.2)\n",
      "Requirement already satisfied: traitlets>=4.3.1 in /home/codespace/.local/lib/python3.10/site-packages (from ipywidgets) (5.14.1)\n",
      "Requirement already satisfied: widgetsnbextension~=4.0.10 in /usr/local/python/3.10.13/lib/python3.10/site-packages (from ipywidgets) (4.0.10)\n",
      "Requirement already satisfied: jupyterlab-widgets~=3.0.10 in /usr/local/python/3.10.13/lib/python3.10/site-packages (from ipywidgets) (3.0.10)\n",
      "Requirement already satisfied: decorator in /home/codespace/.local/lib/python3.10/site-packages (from ipython>=6.1.0->ipywidgets) (5.1.1)\n",
      "Requirement already satisfied: jedi>=0.16 in /home/codespace/.local/lib/python3.10/site-packages (from ipython>=6.1.0->ipywidgets) (0.19.1)\n",
      "Requirement already satisfied: matplotlib-inline in /home/codespace/.local/lib/python3.10/site-packages (from ipython>=6.1.0->ipywidgets) (0.1.6)\n",
      "Requirement already satisfied: prompt-toolkit<3.1.0,>=3.0.41 in /home/codespace/.local/lib/python3.10/site-packages (from ipython>=6.1.0->ipywidgets) (3.0.43)\n",
      "Requirement already satisfied: pygments>=2.4.0 in /home/codespace/.local/lib/python3.10/site-packages (from ipython>=6.1.0->ipywidgets) (2.17.2)\n",
      "Requirement already satisfied: stack-data in /home/codespace/.local/lib/python3.10/site-packages (from ipython>=6.1.0->ipywidgets) (0.6.3)\n",
      "Requirement already satisfied: exceptiongroup in /home/codespace/.local/lib/python3.10/site-packages (from ipython>=6.1.0->ipywidgets) (1.2.0)\n",
      "Requirement already satisfied: pexpect>4.3 in /home/codespace/.local/lib/python3.10/site-packages (from ipython>=6.1.0->ipywidgets) (4.9.0)\n",
      "Requirement already satisfied: parso<0.9.0,>=0.8.3 in /home/codespace/.local/lib/python3.10/site-packages (from jedi>=0.16->ipython>=6.1.0->ipywidgets) (0.8.3)\n",
      "Requirement already satisfied: ptyprocess>=0.5 in /home/codespace/.local/lib/python3.10/site-packages (from pexpect>4.3->ipython>=6.1.0->ipywidgets) (0.7.0)\n",
      "Requirement already satisfied: wcwidth in /home/codespace/.local/lib/python3.10/site-packages (from prompt-toolkit<3.1.0,>=3.0.41->ipython>=6.1.0->ipywidgets) (0.2.13)\n",
      "Requirement already satisfied: executing>=1.2.0 in /home/codespace/.local/lib/python3.10/site-packages (from stack-data->ipython>=6.1.0->ipywidgets) (2.0.1)\n",
      "Requirement already satisfied: asttokens>=2.1.0 in /home/codespace/.local/lib/python3.10/site-packages (from stack-data->ipython>=6.1.0->ipywidgets) (2.4.1)\n",
      "Requirement already satisfied: pure-eval in /home/codespace/.local/lib/python3.10/site-packages (from stack-data->ipython>=6.1.0->ipywidgets) (0.2.2)\n",
      "Requirement already satisfied: six>=1.12.0 in /home/codespace/.local/lib/python3.10/site-packages (from asttokens>=2.1.0->stack-data->ipython>=6.1.0->ipywidgets) (1.16.0)\n",
      "Note: you may need to restart the kernel to use updated packages.\n"
     ]
    }
   ],
   "source": [
    "%pip install ipywidgets"
   ]
  },
  {
   "cell_type": "code",
   "execution_count": 1,
   "metadata": {},
   "outputs": [
    {
     "data": {
      "application/vnd.jupyter.widget-view+json": {
       "model_id": "ac082e68e94a484a91afdb82df42ef00",
       "version_major": 2,
       "version_minor": 0
      },
      "text/plain": [
       "FloatSlider(value=2.5, description='X:', max=5.0, min=0.1, step=0.01)"
      ]
     },
     "metadata": {},
     "output_type": "display_data"
    },
    {
     "data": {
      "application/vnd.jupyter.widget-view+json": {
       "model_id": "5e15193464824d10aea3b22a149ff011",
       "version_major": 2,
       "version_minor": 0
      },
      "text/plain": [
       "Label(value='Volume: None.')"
      ]
     },
     "metadata": {},
     "output_type": "display_data"
    },
    {
     "data": {
      "application/vnd.jupyter.widget-view+json": {
       "model_id": "83c37c1707114256bb9126ffda11c1c9",
       "version_major": 2,
       "version_minor": 0
      },
      "text/plain": [
       "Label(value='Surface Area: None.')"
      ]
     },
     "metadata": {},
     "output_type": "display_data"
    },
    {
     "data": {
      "application/vnd.jupyter.widget-view+json": {
       "model_id": "32be1189d2c644c4ad950865a307b529",
       "version_major": 2,
       "version_minor": 0
      },
      "text/plain": [
       "Label(value='Cost: None')"
      ]
     },
     "metadata": {},
     "output_type": "display_data"
    }
   ],
   "source": [
    "import ipywidgets as widgets\n",
    "from IPython.display import display\n",
    "import math\n",
    "\n",
    "def update_output(change):\n",
    "    x = slider.value\n",
    "   \n",
    "    def hex_prism_vol(x):\n",
    "        #V=3ash\n",
    "        hexagon_area = 12*((((1.5*x) * math.tan(math.pi/3)) * (1.5*x))/2)\n",
    "        prism_volume = hexagon_area * (3*x)\n",
    "        return prism_volume\n",
    "\n",
    "    def trunc_pyr_vol(x):\n",
    "        def twisted_pyr(x):\n",
    "            r = math.sqrt(((0.5*x)**2) + ((2.5*x)**2))\n",
    "            tet1 = ((r*(3*x)/2)*(6*x))/3\n",
    "            tet2 = ((((2.5*x)*(0.5*x))/2)*(6*x))/3\n",
    "            return tet1 + tet2\n",
    "        def trapezoidal_solid(x):\n",
    "            q = ((3*x)*math.sin((math.pi/3)/2))-x\n",
    "            prism  = ((q*(6*x))/2)*x\n",
    "            sides = (((q*x)/2)*(6*x))/3\n",
    "            return prism + sides + sides\n",
    "        pyr_core = (x**2)*(6*x)\n",
    "        return pyr_core + (4 * twisted_pyr(x)) + (2 * trapezoidal_solid(x))\n",
    "    \n",
    "    def hex_prism_Sarea(x):\n",
    "        hexagon_area = 12*((((1.5*x) * math.tan(math.pi/3)) * (1.5*x))/2)\n",
    "        return (3*hexagon_area) + (6*((3*x)**2))\n",
    "    def trunc_pyr_Sarea(x):\n",
    "        def twisted_pyr(x):\n",
    "            q = ((3*x)*math.sin((math.pi/3)/2))-x\n",
    "            t= math.sqrt(((6*x)**2)+(q**2))\n",
    "            return ((t*(0.5*x))/2) + (((1.5*x)*math.sqrt((x**2)+(t**2)))/2)\n",
    "            \n",
    "        def trapezoidal_solid(x):\n",
    "            q = ((3*x)*math.sin((math.pi/3)/2))-x\n",
    "            t= math.sqrt(((6*x)**2)+(q**2))\n",
    "            rectangle = t * x\n",
    "            triangles = (t*x)/2\n",
    "            return rectangle + (2*triangles)\n",
    "        return twisted_pyr(x) + trapezoidal_solid(x)\n",
    "\n",
    "    total_Sarea = trunc_pyr_Sarea(x) + hex_prism_Sarea(x) + (6*(x**2))\n",
    "    total_volume = trunc_pyr_vol(x) + hex_prism_vol(x) + (x**3)\n",
    "    volume.value = f\"Volume: {total_volume:.3f}\"\n",
    "    sArea.value = f\"Surface Area: ~{total_Sarea:.3f}\"\n",
    "    cost.value = f\"Cost: ${total_Sarea * 6.4516 * 0.03:.2f} (square cm)\"\n",
    "\n",
    "# Create slider widget\n",
    "slider = widgets.FloatSlider(\n",
    "    value=2.5,\n",
    "    min=0.1,\n",
    "    max=5,\n",
    "    step=0.01,\n",
    "    description='X:',\n",
    "    continuous_update=True\n",
    ")\n",
    "\n",
    "# Create output widget\n",
    "volume = widgets.Label(value=\"Volume: None.\")\n",
    "sArea = widgets.Label(value=\"Surface Area: None.\")\n",
    "cost = widgets.Label(value=\"Cost: None\")\n",
    "\n",
    "# Attach the event listener\n",
    "slider.observe(update_output, 'value')\n",
    "\n",
    "# Display widgets\n",
    "display(slider)\n",
    "display(volume)\n",
    "display(sArea)\n",
    "display(cost)"
   ]
  }
 ],
 "metadata": {
  "kernelspec": {
   "display_name": "Python 3",
   "language": "python",
   "name": "python3"
  },
  "language_info": {
   "codemirror_mode": {
    "name": "ipython",
    "version": 3
   },
   "file_extension": ".py",
   "mimetype": "text/x-python",
   "name": "python",
   "nbconvert_exporter": "python",
   "pygments_lexer": "ipython3",
   "version": "3.10.13"
  }
 },
 "nbformat": 4,
 "nbformat_minor": 2
}
